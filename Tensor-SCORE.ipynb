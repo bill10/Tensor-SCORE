{
 "cells": [
  {
   "cell_type": "markdown",
   "metadata": {
    "toc": true
   },
   "source": [
    "<h1>Table of Contents<span class=\"tocSkip\"></span></h1>\n",
    "<div class=\"toc\"><ul class=\"toc-item\"><li><span><a href=\"#Community-Detection-for-Hypergraph-Networks-via-Regularized-Tensor-Power-Iteration\" data-toc-modified-id=\"Community-Detection-for-Hypergraph-Networks-via-Regularized-Tensor-Power-Iteration-1\">Community Detection for Hypergraph Networks via Regularized Tensor Power Iteration</a></span><ul class=\"toc-item\"><li><span><a href=\"#Packages-Required\" data-toc-modified-id=\"Packages-Required-1.1\">Packages Required</a></span></li><li><span><a href=\"#Helper-Functions\" data-toc-modified-id=\"Helper-Functions-1.2\">Helper Functions</a></span></li><li><span><a href=\"#Tensor-SCORE\" data-toc-modified-id=\"Tensor-SCORE-1.3\">Tensor-SCORE</a></span></li><li><span><a href=\"#Other-Methods\" data-toc-modified-id=\"Other-Methods-1.4\">Other Methods</a></span><ul class=\"toc-item\"><li><span><a href=\"#HOSVD\" data-toc-modified-id=\"HOSVD-1.4.1\">HOSVD</a></span></li><li><span><a href=\"#Projection-to-graph\" data-toc-modified-id=\"Projection-to-graph-1.4.2\">Projection-to-graph</a></span></li><li><span><a href=\"#NHCut\" data-toc-modified-id=\"NHCut-1.4.3\">NHCut</a></span></li></ul></li><li><span><a href=\"#Numerical-Experiment\" data-toc-modified-id=\"Numerical-Experiment-1.5\">Numerical Experiment</a></span><ul class=\"toc-item\"><li><span><a href=\"#Dataset-1:-Legislator-Network\" data-toc-modified-id=\"Dataset-1:-Legislator-Network-1.5.1\">Dataset 1: Legislator Network</a></span><ul class=\"toc-item\"><li><span><a href=\"#Load-Data\" data-toc-modified-id=\"Load-Data-1.5.1.1\">Load Data</a></span></li><li><span><a href=\"#Tensor-SCORE\" data-toc-modified-id=\"Tensor-SCORE-1.5.1.2\">Tensor-SCORE</a></span></li><li><span><a href=\"#Other-Methods\" data-toc-modified-id=\"Other-Methods-1.5.1.3\">Other Methods</a></span></li></ul></li><li><span><a href=\"#Dataset-2:-Disease-Network\" data-toc-modified-id=\"Dataset-2:-Disease-Network-1.5.2\">Dataset 2: Disease Network</a></span><ul class=\"toc-item\"><li><span><a href=\"#Load-Data\" data-toc-modified-id=\"Load-Data-1.5.2.1\">Load Data</a></span></li><li><span><a href=\"#Tensor-SCORE\" data-toc-modified-id=\"Tensor-SCORE-1.5.2.2\">Tensor-SCORE</a></span></li><li><span><a href=\"#Other-Methods\" data-toc-modified-id=\"Other-Methods-1.5.2.3\">Other Methods</a></span></li></ul></li></ul></li></ul></li></ul></div>"
   ]
  },
  {
   "cell_type": "markdown",
   "metadata": {},
   "source": [
    "# Community Detection for Hypergraph Networks via Regularized Tensor Power Iteration"
   ]
  },
  {
   "cell_type": "markdown",
   "metadata": {},
   "source": [
    "## Packages Required"
   ]
  },
  {
   "cell_type": "code",
   "execution_count": 1,
   "metadata": {},
   "outputs": [],
   "source": [
    "import numpy as np\n",
    "import pandas as pd\n",
    "import random\n",
    "from collections import Counter\n",
    "import scipy.sparse as ssp\n",
    "from scipy.sparse.linalg import eigsh\n",
    "from scipy.linalg import eigh\n",
    "from numpy.linalg import qr\n",
    "from multiprocessing import Pool, cpu_count\n",
    "from functools import partial, reduce\n",
    "from sklearn.manifold import TSNE,MDS\n",
    "import sklearn.cluster as skcluster\n",
    "from itertools import permutations, combinations, combinations_with_replacement \n",
    "from sklearn import metrics\n",
    "from sklearn.metrics.cluster import contingency_matrix\n",
    "from scipy.special import comb\n",
    "from itertools import groupby"
   ]
  },
  {
   "cell_type": "code",
   "execution_count": 2,
   "metadata": {},
   "outputs": [],
   "source": [
    "%matplotlib inline\n",
    "import pylab as plt\n",
    "import seaborn as sns\n",
    "from matplotlib.colors import ListedColormap"
   ]
  },
  {
   "cell_type": "code",
   "execution_count": 3,
   "metadata": {},
   "outputs": [],
   "source": [
    "from numba import guvectorize\n",
    "from numba import int64,float64\n",
    "from numba import cuda"
   ]
  },
  {
   "cell_type": "markdown",
   "metadata": {},
   "source": [
    "## Helper Functions"
   ]
  },
  {
   "cell_type": "code",
   "execution_count": 4,
   "metadata": {},
   "outputs": [],
   "source": [
    "def get_nodes(x,G):\n",
    "    # G: an edge-by-node incidence matrix\n",
    "    # x: index of an edge\n",
    "    # Return: \n",
    "    return tuple(sorted(G[x,:].nonzero()[1]))\n",
    "    \n",
    "def get_hyperedges(G):\n",
    "    # G: an edge-by-node incidence matrix\n",
    "    with Pool(cpu_count()-1) as pool:\n",
    "        E=Counter(pool.map(partial(get_nodes,G=G), (G.sum(axis=1).A.flatten()>1).nonzero()[0]))\n",
    "    return E\n",
    "\n",
    "def get_incidence(edges):\n",
    "    indices=[]\n",
    "    indptr=[0]\n",
    "    for e in edges:\n",
    "        indptr.append(indptr[-1]+len(e))\n",
    "        indices+=list(e)\n",
    "    return ssp.csr_matrix((np.ones(indptr[-1]), indices, indptr))\n",
    "\n",
    "def load_edges(filename, sep='\\t', attributes=False):\n",
    "    df=pd.read_csv(filename,sep)\n",
    "    data=df[['edge_id','node_id']]\n",
    "    G=ssp.csr_matrix((np.ones(len(data)),zip(*data.values)),shape=data.max().values+1)\n",
    "    if attributes:\n",
    "        df=df[[i for i in df.columns if i!='node_id']]\n",
    "        df=df.drop_duplicates()\n",
    "        return G,df\n",
    "    else:\n",
    "        return G\n",
    "    \n",
    "def kmeans(X, K):\n",
    "    labels = skcluster.KMeans(n_clusters=K).fit(X) \n",
    "    return labels.labels_\n",
    "      \n",
    "def assess_error(predicted_labels,true_labels,verbose=True):\n",
    "    x=contingency_matrix(true_labels,predicted_labels)\n",
    "    y=[np.trace(x[i,:]) for i in permutations(range(x.shape[0]))]\n",
    "    err=N-np.max(y)\n",
    "    if verbose:\n",
    "        print(\"Error {}/{}={:.2f}%\".format(err,N,err/N*100))\n",
    "    else:\n",
    "        return err"
   ]
  },
  {
   "cell_type": "markdown",
   "metadata": {},
   "source": [
    "## Tensor-SCORE"
   ]
  },
  {
   "cell_type": "markdown",
   "metadata": {},
   "source": [
    "Given a hypergraph, Tensor-SCORE fits the SBM to data and infers the community membership of nodes.\n",
    "1. Get initial factor matrix $U=[u_1,\\cdots,u_K]$ from methods such as projection-to-graph, HOSVD, NHCut, etc.\n",
    "2. Higher-order orthogonal iteration for improvements. \n",
    "    1. Compute $$C[i_1, g_2, \\cdots, g_m]=\\sum_{i_2,\\cdots,i_m} A[i_1,i_2,\\cdots,i_m] U[i_2,g_2] \\cdots U[i_m,g_m], 1\\leq i_1,\\cdots,i_m \\leq N, 1\\leq g_2, \\cdots, g_m \\leq K.$$\n",
    "    2. Calculate the QR factorization of $C^{(1)}\\cdot C^{(1)T}U$, where $C^{(1)}$ is the mode-1 matrization of $C$, and update $U=Q$. (See Regalia 2013 for details.) For even modest $m$ or $K$, $C^{(1)}$ will be very wide ($K^{m-1}$ columns), and computation needs to be arranged smartly to avoiding constructing the full $C^{(1)}$.\n",
    "        1. Note that many columns of $C^{(1)}$ are repeated. The unique columns correpond to the outcomes of sampling $m-1$ elements from {1,2,...,K} with replacement. Each column $(g_2, \\cdots, g_m)$ is repeated ($m-1$ choose $x_1$)*($m-1-x_1$ choose $x_2$)$\\cdot\\cdot\\cdot$($m-1-x_1-...-x_{K-1}$ choose $x_K$), where $x_k$ is the number of elements equal to $k$. (Complexity: $K+m-2$ choose $m-1$.)\n",
    "        2. For each column $(g_2, \\cdots, g_m)$, go over all the hyperedges. For each hyperedge $e$ and each node $v\\in e$, this hyperedge contributes $\\sum_{(i_2,\\cdots,i_m)\\in \\pi(e/v)} U[i_2,g_2] \\cdots U[i_m,g_m]$ to the $v$-th row of this column. (Complexity: $Mm(m-1)!$.)\n",
    "        3. Calculate the QR factorization of $C^{(1)}\\cdot C^{(1)T}\\cdot U$. We can reorder the columns of $C^{(1)}$ and rewrite it as $[C_1,C_2,...,C_2,C_3,...,C_3...]$ where $C_i$ consists of a subset of the unique columns and it appears for as many times as its columns are repeated. Then $C^{(1)}\\cdot C^{(1)T}=\\sum_i r_iC_iC_i^T$ where $r_i$ is the number of times $C_i$ is repeated. (Complexity: $N^2(K+m-2$ choose $m-1)$.)\n",
    "    3. Repeat all steps above until convergence.\n",
    "3. Compute $b_i=u_{i+1}/u_1$, $i=1,\\cdots,K-1$.\n",
    "4. Partition the rows of the matrix $[b_1,\\cdots,b_{K-1}]$ with any clustering algorithm, e.g., k-means."
   ]
  },
  {
   "cell_type": "code",
   "execution_count": 5,
   "metadata": {},
   "outputs": [],
   "source": [
    "MAX_EDGE=10 # The largest edge allowed. This is needed for pre-allocation."
   ]
  },
  {
   "cell_type": "code",
   "execution_count": 6,
   "metadata": {},
   "outputs": [],
   "source": [
    "@guvectorize([(int64[:],int64[:,:],float64[:,:],int64[:,:],float64[:])], '(m1),(M,m),(N,K),(p,m1)->(N)',target='cuda')\n",
    "def hooi_matrization_gpu(km, T, U, permute, res):\n",
    "    m=T.shape[1]\n",
    "    for i in range(len(res)):\n",
    "        res[i]=0\n",
    "    for i in range(T.shape[0]):\n",
    "        for j in range(m):\n",
    "            im=cuda.local.array(MAX_EDGE,int64)\n",
    "            k=0\n",
    "            for l in range(m):\n",
    "                if l!=j:\n",
    "                    im[k]=T[i,l]\n",
    "                    k+=1\n",
    "            for p in range(permute.shape[0]):\n",
    "                prod=1.0\n",
    "                for k in range(m-1):\n",
    "                    prod*=U[im[permute[p,k]],km[k]]\n",
    "                res[T[i,j]]+=prod\n",
    "\n",
    "def comb2(e):\n",
    "    c=Counter(e)\n",
    "    res=1\n",
    "    a=len(e)\n",
    "    for v in c.values():\n",
    "        res*=comb(a,v)\n",
    "        a=a-v\n",
    "    return int(res)\n",
    "\n",
    "def hooi_gpu(N, K, edges, U0, iterations=1, delta=0.9, diagnose=True, return_lik=False):\n",
    "    m=len(edges[0])\n",
    "    U_prev=U0.copy()\n",
    "    permute=np.array(list(permutations(range(m-1))))\n",
    "    permute=cuda.to_device(permute)\n",
    "    T=cuda.to_device(np.array(edges, dtype=np.int64))\n",
    "    lik=[]\n",
    "    cols=sorted(combinations_with_replacement(range(K), m-1), key=comb2)\n",
    "    for iteration in range(iterations):\n",
    "        A=np.zeros([N,N])\n",
    "        norm=np.linalg.norm(U_prev, axis=1)\n",
    "        indx=norm>delta\n",
    "        U_prev[indx,:]=U_prev[indx,:]/norm[indx,np.newaxis]*delta\n",
    "        for k,sub_cols in groupby(cols,comb2):\n",
    "            T2=hooi_matrization_gpu(list(sub_cols),T,U_prev,permute)\n",
    "            T2=T2.copy_to_host()\n",
    "            A+=k*T2.T.dot(T2)\n",
    "        fit=np.trace(A)\n",
    "        A=2*N*A.dot(U_prev)\n",
    "        U_new,_=qr(A)\n",
    "        lik.append(fit)\n",
    "        if diagnose:\n",
    "            print(\"Iteration: {}, Fit: {}, Difference: {}\".format(iteration,fit,np.linalg.norm(abs(U_new)-abs(U_prev))), flush=True)\n",
    "        U_prev=U_new\n",
    "    if return_lik:\n",
    "        return U_new, lik\n",
    "    return U_new"
   ]
  },
  {
   "cell_type": "markdown",
   "metadata": {},
   "source": [
    "If the hypergraph is not uniform (not all the hyperedges are of the same size), make all the hyperedges the same size by adding dummy nodes."
   ]
  },
  {
   "cell_type": "code",
   "execution_count": 7,
   "metadata": {},
   "outputs": [],
   "source": [
    "# Edges smaller than m will get dummy nodes, and edges larger than m will be projected to edges of size m.\n",
    "def homogenize(N,m,edges,max_size=None):\n",
    "    # N: number of nodes.\n",
    "    # m: target uniform edge size.\n",
    "    # edges: input hyperedges.\n",
    "    # max_size: edges larger than max_size will be ignored. \n",
    "    if max_size is None:\n",
    "        max_size=m\n",
    "    min_size=m\n",
    "    for e in edges:\n",
    "        if (len(e)!=1 and len(e)<min_size):\n",
    "            min_size=len(e)\n",
    "    dummies=np.ones(m-min_size)*N + np.arange(m-min_size)\n",
    "    dummies=tuple(dummies.astype(int))\n",
    "    newedges=set()\n",
    "    for e in edges:\n",
    "        if len(e)<=1 or len(e)>max_size:\n",
    "            continue\n",
    "        if len(e)>m:\n",
    "            for i in combinations(e,m):\n",
    "                newedges.add(i)\n",
    "        elif len(e)==m:\n",
    "            newedges.add(e)\n",
    "        else:\n",
    "            newedges.add(e+dummies[len(e)-min_size:])\n",
    "    return len(dummies), list(newedges)"
   ]
  },
  {
   "cell_type": "markdown",
   "metadata": {},
   "source": [
    "## Other Methods"
   ]
  },
  {
   "cell_type": "markdown",
   "metadata": {},
   "source": [
    "### HOSVD"
   ]
  },
  {
   "cell_type": "code",
   "execution_count": 8,
   "metadata": {},
   "outputs": [],
   "source": [
    "def count(x):\n",
    "    return Counter([tuple(i) for i in x])\n",
    "\n",
    "def preduce(A):\n",
    "    chunks=cpu_count()-1\n",
    "    with Pool(chunks) as pool:\n",
    "        res=pool.map(count, np.array_split(A,chunks,axis=0))\n",
    "    return reduce(lambda x,y:x+y, res)\n",
    "\n",
    "@guvectorize([(int64[:],int64[:,:],int64[:])], '(N),(M,m)->(N)',target='cuda')\n",
    "def hosvd_matrization_gpu(pair,T,res):\n",
    "    i=pair[0]\n",
    "    j=pair[1]\n",
    "    for k in range(len(res)):\n",
    "        res[k]=-1\n",
    "    end=T.shape[1]\n",
    "    indxi=0\n",
    "    indxj=0\n",
    "    ei=T[i,:]\n",
    "    ej=T[j,:]\n",
    "    overlap=cuda.local.array(MAX_EDGE,int64)\n",
    "    v=0\n",
    "    for k in range(end):\n",
    "        overlap[k]=-1\n",
    "        v+=k\n",
    "    csame=0\n",
    "    while indxi<end and indxj<end:\n",
    "        if ei[indxi]==ej[indxj]:\n",
    "            overlap[indxi]=indxj\n",
    "            csame+=1\n",
    "            indxi+=1\n",
    "            indxj+=1\n",
    "        elif ei[indxi]>ej[indxj]:\n",
    "            indxj+=1\n",
    "        else:\n",
    "            indxi+=1\n",
    "    if csame==(end-1):\n",
    "        for k in range(end):\n",
    "            if overlap[k]==-1:\n",
    "                u=ei[k]\n",
    "            else:\n",
    "                v-=overlap[k]\n",
    "        v=ej[v]\n",
    "        if u<v:\n",
    "            res[0]=u\n",
    "            res[1]=v\n",
    "        else:\n",
    "            res[0]=v\n",
    "            res[1]=u\n",
    "\n",
    "def hosvd_gpu(N,K,hyperedges,v0=None,eigs=False):\n",
    "    M=len(hyperedges)\n",
    "    m=len(hyperedges[0])\n",
    "    T=cuda.to_device(np.array(hyperedges, dtype=np.int64))\n",
    "    indices=hosvd_matrization_gpu(list(combinations(range(M),2)),T)\n",
    "    indices=indices.copy_to_host()\n",
    "    indices=preduce(indices)\n",
    "    del indices[(-1,-1)]\n",
    "    \n",
    "    H=ssp.coo_matrix((list(indices.values()),zip(*(indices.keys()))),shape=(N,N),dtype=float)\n",
    "    H=H+H.T\n",
    "    _,U=eigsh(H,K,v0=v0)\n",
    "    if eigs:\n",
    "        return U\n",
    "    row_norms=np.sqrt((U**2).sum(axis=1))\n",
    "    B=U/row_norms.reshape(len(row_norms),1)\n",
    "    return B"
   ]
  },
  {
   "cell_type": "markdown",
   "metadata": {},
   "source": [
    "### Projection-to-graph"
   ]
  },
  {
   "cell_type": "code",
   "execution_count": 9,
   "metadata": {},
   "outputs": [],
   "source": [
    "def score(G,K,eigs=False,project='binary'):\n",
    "    if project not in ['binary', 'sum', 'normalized']:\n",
    "        raise ValueError(\"Invalid projection type.\")\n",
    "    if project=='normalized':\n",
    "        d=G.sum(axis=1).A.flatten()\n",
    "        D=ssp.diags(1/d)\n",
    "        A=G.T*D*D*G\n",
    "    else:\n",
    "        A=G.T*G    \n",
    "    if project is 'binary':\n",
    "        A.data=np.ones_like(A.data)\n",
    "    _,U=eigsh(A,K)\n",
    "    if eigs:\n",
    "        return U\n",
    "    row_norms=np.sqrt((U**2).sum(axis=1))\n",
    "    B=U/row_norms.reshape(len(row_norms),1)\n",
    "    return B"
   ]
  },
  {
   "cell_type": "markdown",
   "metadata": {},
   "source": [
    "### NHCut"
   ]
  },
  {
   "cell_type": "code",
   "execution_count": 10,
   "metadata": {},
   "outputs": [],
   "source": [
    "def NHCut(H,K,eigs=False):\n",
    "    N=H.shape[1]\n",
    "    d=H.sum(axis=0).A.ravel()\n",
    "    D=ssp.diags(1/np.sqrt(d))\n",
    "    de=H.sum(axis=1).A.ravel()\n",
    "    De=ssp.diags(1/de)\n",
    "    L=ssp.eye(N)-D*(H.T*De*H)*D\n",
    "\n",
    "    _,X=eigsh(L,K,which='SA')\n",
    "    if eigs:\n",
    "        return X\n",
    "    row_norms=np.sqrt((X**2).sum(axis=1))\n",
    "    X=X/row_norms.reshape(len(row_norms),1)\n",
    "    \n",
    "    return X"
   ]
  },
  {
   "cell_type": "markdown",
   "metadata": {},
   "source": [
    "## Numerical Experiment"
   ]
  },
  {
   "cell_type": "markdown",
   "metadata": {},
   "source": [
    "### Dataset 1: Legislator Network"
   ]
  },
  {
   "cell_type": "markdown",
   "metadata": {},
   "source": [
    "* Node: congressman of Peru.\n",
    "* Edge: a bill proposed in the congress of Peru."
   ]
  },
  {
   "cell_type": "markdown",
   "metadata": {},
   "source": [
    "#### Load Data"
   ]
  },
  {
   "cell_type": "code",
   "execution_count": 38,
   "metadata": {},
   "outputs": [
    {
     "data": {
      "text/plain": [
       "<589x120 sparse matrix of type '<class 'numpy.float64'>'\n",
       "\twith 4720 stored elements in Compressed Sparse Row format>"
      ]
     },
     "execution_count": 38,
     "metadata": {},
     "output_type": "execute_result"
    }
   ],
   "source": [
    "# Load edges\n",
    "G=load_edges('legislator_edges.tsv')\n",
    "N=G.shape[1]\n",
    "G"
   ]
  },
  {
   "cell_type": "code",
   "execution_count": 39,
   "metadata": {},
   "outputs": [
    {
     "name": "stdout",
     "output_type": "stream",
     "text": [
      "Distribution of edge sizes:\n",
      "[(2, 2), (3, 1), (4, 1), (6, 185), (7, 153), (8, 96), (9, 48), (10, 33), (11, 20), (12, 14), (13, 11), (14, 5), (15, 7), (16, 3), (17, 1), (18, 2), (19, 1), (20, 1), (21, 2), (22, 1), (23, 1), (65, 1)]\n"
     ]
    }
   ],
   "source": [
    "# Edge size distribution\n",
    "edges=get_hyperedges(G)\n",
    "print(\"Distribution of edge sizes:\")\n",
    "print(sorted(Counter([len(i) for i in edges]).items()))"
   ]
  },
  {
   "cell_type": "code",
   "execution_count": 40,
   "metadata": {},
   "outputs": [
    {
     "name": "stdout",
     "output_type": "stream",
     "text": [
      "Number of edges: 438\n"
     ]
    }
   ],
   "source": [
    "# Add dummy nodes to make all edges of size $m$\n",
    "m=8\n",
    "dummies,regular_edges=homogenize(N,m,edges,m)\n",
    "print(\"Number of edges: {}\".format(len(regular_edges)))"
   ]
  },
  {
   "cell_type": "code",
   "execution_count": 41,
   "metadata": {},
   "outputs": [
    {
     "data": {
      "text/plain": [
       "Counter({6: 45, 2: 35, 3: 18, 0: 13, 4: 2, 1: 5, 5: 2})"
      ]
     },
     "execution_count": 41,
     "metadata": {},
     "output_type": "execute_result"
    }
   ],
   "source": [
    "# Load ground truth of nodes' communities\n",
    "nodes=pd.read_csv('legislator_nodes.tsv',sep='\\t')\n",
    "comm=np.zeros(len(nodes),dtype=int)\n",
    "comm[nodes['node_id']]=nodes['party_id']\n",
    "Counter(comm)"
   ]
  },
  {
   "cell_type": "code",
   "execution_count": 42,
   "metadata": {},
   "outputs": [],
   "source": [
    "# Number of communities\n",
    "K=7 "
   ]
  },
  {
   "cell_type": "markdown",
   "metadata": {},
   "source": [
    "#### Tensor-SCORE"
   ]
  },
  {
   "cell_type": "code",
   "execution_count": 43,
   "metadata": {},
   "outputs": [
    {
     "name": "stdout",
     "output_type": "stream",
     "text": [
      "Iteration: 0, Fit: 62339.693256041486, Difference: 2.9697842814131334\n",
      "Iteration: 1, Fit: 50013.02007697287, Difference: 1.3139523833462845\n",
      "Iteration: 2, Fit: 52337.01639451497, Difference: 0.5819965311711065\n",
      "Iteration: 3, Fit: 52609.406201153695, Difference: 0.5410297123978861\n",
      "Iteration: 4, Fit: 52798.4426865467, Difference: 0.44715635492980366\n",
      "Iteration: 5, Fit: 52968.38744872397, Difference: 0.33737475504789555\n",
      "Iteration: 6, Fit: 53143.899943136224, Difference: 0.27345669714120224\n",
      "Iteration: 7, Fit: 53306.26092841636, Difference: 0.23928744690555911\n",
      "Iteration: 8, Fit: 53416.91311843702, Difference: 0.21870385896571035\n",
      "Iteration: 9, Fit: 53482.15320753653, Difference: 0.20635032829186217\n"
     ]
    }
   ],
   "source": [
    "U0 = hosvd_gpu(N+dummies,K,regular_edges,eigs=True)\n",
    "U0[:N,:]=NHCut(G,K,eigs=True)\n",
    "\n",
    "U,lik=hooi_gpu(N+dummies, K, regular_edges, U0, delta=10, iterations=10, diagnose=True, return_lik=True)"
   ]
  },
  {
   "cell_type": "code",
   "execution_count": 44,
   "metadata": {},
   "outputs": [
    {
     "data": {
      "image/png": "[encoded data removed]",
      "text/plain": [
       "<Figure size 432x288 with 1 Axes>"
      ]
     },
     "metadata": {
      "needs_background": "light"
     },
     "output_type": "display_data"
    }
   ],
   "source": [
    "plt.plot(lik[1:]);\n",
    "plt.xlabel('Iteration');\n",
    "plt.ylabel('Goodness of fit');"
   ]
  },
  {
   "cell_type": "code",
   "execution_count": 46,
   "metadata": {},
   "outputs": [
    {
     "name": "stdout",
     "output_type": "stream",
     "text": [
      "Error 17/120=14.17%\n"
     ]
    }
   ],
   "source": [
    "x=U[:N,0].copy()\n",
    "# Avoid divide-by-0 error\n",
    "x[x==0]=1\n",
    "B = U[:N,1:]/x.reshape(N,1)\n",
    "T=N\n",
    "norm=np.linalg.norm(B, axis=1)\n",
    "indx=norm>T\n",
    "B[indx,:]=B[indx,:]/norm[indx,np.newaxis]*T\n",
    "labels = kmeans(B, K)\n",
    "assess_error(labels, comm)"
   ]
  },
  {
   "cell_type": "markdown",
   "metadata": {},
   "source": [
    "#### Other Methods"
   ]
  },
  {
   "cell_type": "code",
   "execution_count": 47,
   "metadata": {},
   "outputs": [
    {
     "name": "stdout",
     "output_type": "stream",
     "text": [
      "Error 27/120=22.50%\n"
     ]
    }
   ],
   "source": [
    "B=NHCut(G, K)\n",
    "labels = kmeans(B, K)\n",
    "assess_error(labels, comm)"
   ]
  },
  {
   "cell_type": "code",
   "execution_count": 48,
   "metadata": {},
   "outputs": [
    {
     "name": "stdout",
     "output_type": "stream",
     "text": [
      "Error 41/120=34.17%\n"
     ]
    }
   ],
   "source": [
    "B=score(G,K)\n",
    "labels = kmeans(B, K)\n",
    "assess_error(labels, comm)"
   ]
  },
  {
   "cell_type": "code",
   "execution_count": 49,
   "metadata": {},
   "outputs": [
    {
     "name": "stdout",
     "output_type": "stream",
     "text": [
      "Error 41/120=34.17%\n"
     ]
    }
   ],
   "source": [
    "B=score(G,K,project='sum')\n",
    "labels = kmeans(B, K)\n",
    "assess_error(labels, comm)"
   ]
  },
  {
   "cell_type": "code",
   "execution_count": 50,
   "metadata": {},
   "outputs": [
    {
     "name": "stdout",
     "output_type": "stream",
     "text": [
      "Error 83/120=69.17%\n"
     ]
    }
   ],
   "source": [
    "B=hosvd_gpu(N+dummies,K,regular_edges)\n",
    "labels = kmeans(B[:N,:], K)\n",
    "assess_error(labels, comm)"
   ]
  },
  {
   "cell_type": "markdown",
   "metadata": {},
   "source": [
    "### Dataset 2: Disease Network"
   ]
  },
  {
   "cell_type": "markdown",
   "metadata": {},
   "source": [
    "* Node: a disease (MeSH term)\n",
    "* Edge: a paper annotated with the MeSH terms"
   ]
  },
  {
   "cell_type": "markdown",
   "metadata": {},
   "source": [
    "#### Load Data"
   ]
  },
  {
   "cell_type": "code",
   "execution_count": 51,
   "metadata": {},
   "outputs": [
    {
     "data": {
      "text/plain": [
       "<870x190 sparse matrix of type '<class 'numpy.float64'>'\n",
       "\twith 1929 stored elements in Compressed Sparse Row format>"
      ]
     },
     "execution_count": 51,
     "metadata": {},
     "output_type": "execute_result"
    }
   ],
   "source": [
    "# Load edges\n",
    "G=load_edges('medline_edges.tsv')\n",
    "N=G.shape[1]\n",
    "G"
   ]
  },
  {
   "cell_type": "code",
   "execution_count": 52,
   "metadata": {},
   "outputs": [
    {
     "name": "stdout",
     "output_type": "stream",
     "text": [
      "Distribution of edge sizes:\n",
      "[(2, 700), (3, 152), (4, 17), (5, 1)]\n"
     ]
    }
   ],
   "source": [
    "# Edge size distribution\n",
    "edges=get_hyperedges(G)\n",
    "print(\"Distribution of edge sizes:\")\n",
    "print(sorted(Counter([len(i) for i in edges]).items()))"
   ]
  },
  {
   "cell_type": "code",
   "execution_count": 53,
   "metadata": {},
   "outputs": [],
   "source": [
    "# Add dummy nodes to make all edges of size $m$\n",
    "m=5\n",
    "dummies,regular_edges=homogenize(N,m,edges,m)"
   ]
  },
  {
   "cell_type": "code",
   "execution_count": 54,
   "metadata": {},
   "outputs": [],
   "source": [
    "# Load ground truth of nodes' communities\n",
    "nodes=pd.read_csv('medline_nodes.tsv',sep='\\t')\n",
    "comm=pd.Categorical(nodes['type']).codes"
   ]
  },
  {
   "cell_type": "code",
   "execution_count": 55,
   "metadata": {},
   "outputs": [
    {
     "data": {
      "text/plain": [
       "Counter({0: 140, 1: 50})"
      ]
     },
     "execution_count": 55,
     "metadata": {},
     "output_type": "execute_result"
    }
   ],
   "source": [
    "Counter(comm)"
   ]
  },
  {
   "cell_type": "code",
   "execution_count": 56,
   "metadata": {},
   "outputs": [],
   "source": [
    "# Number of communities is 2, but we set the order of the model to a larger number\n",
    "K=6"
   ]
  },
  {
   "cell_type": "markdown",
   "metadata": {},
   "source": [
    "#### Tensor-SCORE"
   ]
  },
  {
   "cell_type": "code",
   "execution_count": 57,
   "metadata": {},
   "outputs": [
    {
     "name": "stdout",
     "output_type": "stream",
     "text": [
      "Iteration: 0, Fit: 0.23704186914897468, Difference: 2.9943087047830432\n",
      "Iteration: 1, Fit: 2440.8705921024207, Difference: 1.7531699936048433\n",
      "Iteration: 2, Fit: 6847.777312734797, Difference: 1.0930117123385217\n",
      "Iteration: 3, Fit: 9791.086931625376, Difference: 0.8404521706429633\n",
      "Iteration: 4, Fit: 10802.005210452491, Difference: 0.6856292302703902\n",
      "Iteration: 5, Fit: 11116.882026116944, Difference: 0.610425009146454\n",
      "Iteration: 6, Fit: 11198.137220622699, Difference: 0.6269762483221376\n",
      "Iteration: 7, Fit: 11153.885645126285, Difference: 0.7051239863648203\n",
      "Iteration: 8, Fit: 11008.775704157511, Difference: 0.8059083107239499\n",
      "Iteration: 9, Fit: 10882.009301946913, Difference: 0.9050274956854415\n"
     ]
    }
   ],
   "source": [
    "U0 = hosvd_gpu(N+dummies,K,regular_edges,eigs=True)\n",
    "U0[:N,:]=NHCut(G,K,eigs=True)\n",
    "\n",
    "U,lik=hooi_gpu(N+dummies, K, regular_edges, U0, iterations=10, diagnose=True, return_lik=True)"
   ]
  },
  {
   "cell_type": "code",
   "execution_count": 58,
   "metadata": {},
   "outputs": [
    {
     "data": {
      "image/png": "[encoded data removed]",
      "text/plain": [
       "<Figure size 432x288 with 1 Axes>"
      ]
     },
     "metadata": {
      "needs_background": "light"
     },
     "output_type": "display_data"
    }
   ],
   "source": [
    "plt.plot(lik[:]);\n",
    "plt.xlabel('Iteration');\n",
    "plt.ylabel('Goodness of fit');"
   ]
  },
  {
   "cell_type": "code",
   "execution_count": 59,
   "metadata": {},
   "outputs": [
    {
     "name": "stdout",
     "output_type": "stream",
     "text": [
      "Error 7/190=3.68%\n"
     ]
    }
   ],
   "source": [
    "x=U[:N,0].copy()\n",
    "# Avoid divide-by-0 error\n",
    "x[x==0]=1\n",
    "B = U[:N,1:]/x.reshape(N,1)\n",
    "T=N\n",
    "norm=np.linalg.norm(B, axis=1)\n",
    "indx=norm>T\n",
    "B[indx,:]=B[indx,:]/norm[indx,np.newaxis]*T\n",
    "labels = kmeans(B, 2)\n",
    "assess_error(labels, comm)"
   ]
  },
  {
   "cell_type": "markdown",
   "metadata": {},
   "source": [
    "#### Other Methods"
   ]
  },
  {
   "cell_type": "code",
   "execution_count": 60,
   "metadata": {},
   "outputs": [
    {
     "name": "stdout",
     "output_type": "stream",
     "text": [
      "Error 55/190=28.95%\n"
     ]
    }
   ],
   "source": [
    "B=NHCut(G, K)\n",
    "labels = kmeans(B, 2)\n",
    "assess_error(labels, comm)"
   ]
  },
  {
   "cell_type": "code",
   "execution_count": 61,
   "metadata": {},
   "outputs": [
    {
     "name": "stdout",
     "output_type": "stream",
     "text": [
      "Error 8/190=4.21%\n"
     ]
    }
   ],
   "source": [
    "B=score(G,K)\n",
    "labels = kmeans(B, 2)\n",
    "assess_error(labels, comm)"
   ]
  },
  {
   "cell_type": "code",
   "execution_count": 62,
   "metadata": {},
   "outputs": [
    {
     "name": "stdout",
     "output_type": "stream",
     "text": [
      "Error 23/190=12.11%\n"
     ]
    }
   ],
   "source": [
    "B=score(G,K,project='sum')\n",
    "labels = kmeans(B, 2)\n",
    "assess_error(labels, comm)"
   ]
  },
  {
   "cell_type": "code",
   "execution_count": 63,
   "metadata": {},
   "outputs": [
    {
     "name": "stdout",
     "output_type": "stream",
     "text": [
      "Error 13/190=6.84%\n"
     ]
    }
   ],
   "source": [
    "B=hosvd_gpu(N+dummies,K,regular_edges)\n",
    "labels = kmeans(B[:N,:], 2)\n",
    "assess_error(labels, comm)"
   ]
  },
  {
   "cell_type": "code",
   "execution_count": null,
   "metadata": {},
   "outputs": [],
   "source": []
  }
 ],
 "metadata": {
  "kernelspec": {
   "display_name": "Python 3",
   "language": "python",
   "name": "python3"
  },
  "language_info": {
   "codemirror_mode": {
    "name": "ipython",
    "version": 3
   },
   "file_extension": ".py",
   "mimetype": "text/x-python",
   "name": "python",
   "nbconvert_exporter": "python",
   "pygments_lexer": "ipython3",
   "version": "3.7.4"
  },
  "toc": {
   "base_numbering": 1,
   "nav_menu": {},
   "number_sections": false,
   "sideBar": true,
   "skip_h1_title": false,
   "title_cell": "Table of Contents",
   "title_sidebar": "Contents",
   "toc_cell": true,
   "toc_position": {
    "height": "calc(100% - 180px)",
    "left": "10px",
    "top": "150px",
    "width": "211.719px"
   },
   "toc_section_display": true,
   "toc_window_display": true
  }
 },
 "nbformat": 4,
 "nbformat_minor": 2
}
